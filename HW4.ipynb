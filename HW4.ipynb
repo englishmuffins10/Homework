{
  "nbformat": 4,
  "nbformat_minor": 0,
  "metadata": {
    "colab": {
      "name": "HW4",
      "provenance": [],
      "authorship_tag": "ABX9TyOmS1ZQMLfY2slwdHt+Yk1R",
      "include_colab_link": true
    },
    "kernelspec": {
      "name": "python3",
      "display_name": "Python 3"
    }
  },
  "cells": [
    {
      "cell_type": "markdown",
      "metadata": {
        "id": "view-in-github",
        "colab_type": "text"
      },
      "source": [
        "<a href=\"https://colab.research.google.com/github/englishmuffins10/Homework/blob/main/HW4.ipynb\" target=\"_parent\"><img src=\"https://colab.research.google.com/assets/colab-badge.svg\" alt=\"Open In Colab\"/></a>"
      ]
    },
    {
      "cell_type": "markdown",
      "metadata": {
        "id": "ZKYnCHK5Ebyn"
      },
      "source": [
        "1) Excercise 6.7: Page 240"
      ]
    },
    {
      "cell_type": "markdown",
      "metadata": {
        "id": "6DopdHqYF3dg"
      },
      "source": [
        "a) Get vector equations:\r\n",
        "\r\n",
        "![picture](https://drive.google.com/uc?export=view&id=1d10w7AP_YOD8P9TTLBzZTo8QqpLItj3y)\r\n",
        "\r\n",
        "![picture](https://drive.google.com/uc?export=view&id=1je6dua1-7vUC9hVoNNny0JVZM9AcTKL4)\r\n",
        "\r\n",
        "\r\n"
      ]
    },
    {
      "cell_type": "markdown",
      "metadata": {
        "id": "lDaMWCCGGB_B"
      },
      "source": [
        "b) Program to find values of V for N = 6"
      ]
    },
    {
      "cell_type": "code",
      "metadata": {
        "id": "m58Z1U4OERNQ",
        "colab": {
          "base_uri": "https://localhost:8080/"
        },
        "outputId": "fd88ee78-e49b-4d6d-8deb-f0af38f7e211"
      },
      "source": [
        "import numpy as np\r\n",
        "\r\n",
        "# Define Constants\r\n",
        "N = 6\r\n",
        "Vplus = 5\r\n",
        "\r\n",
        "# Define Arrays\r\n",
        "A = np.zeros(N**2)\r\n",
        "A = A.reshape(N,N)\r\n",
        "W = np.zeros(N)\r\n",
        "W = W.reshape(N,1)\r\n",
        "W[0,0] = Vplus\r\n",
        "W[1,0] = Vplus\r\n",
        "\r\n",
        "# Fill array A with values\r\n",
        "for ix in range(N):\r\n",
        "  for iy in range(N):\r\n",
        "    if((ix == 0) and (iy == 0)):\r\n",
        "      A[ix,iy] = 3\r\n",
        "    elif((ix == N-1) and (iy == N-1)):\r\n",
        "      A[ix,iy] = 3\r\n",
        "    elif(ix == iy):\r\n",
        "      A[ix,iy] = 4\r\n",
        "    elif( iy-2 <= ix <= iy+2):\r\n",
        "      A[ix,iy] = -1\r\n",
        "\r\n",
        "print(\"A=\\n\",A)\r\n",
        "print(\"W=\\n\",W)\r\n",
        "V=np.linalg.solve(A,W)\r\n",
        "print(\"Solving for V in AV=W, V=\\n\",V)"
      ],
      "execution_count": 8,
      "outputs": [
        {
          "output_type": "stream",
          "text": [
            "A=\n",
            " [[ 3. -1. -1.  0.  0.  0.]\n",
            " [-1.  4. -1. -1.  0.  0.]\n",
            " [-1. -1.  4. -1. -1.  0.]\n",
            " [ 0. -1. -1.  4. -1. -1.]\n",
            " [ 0.  0. -1. -1.  4. -1.]\n",
            " [ 0.  0.  0. -1. -1.  3.]]\n",
            "W=\n",
            " [[5.]\n",
            " [5.]\n",
            " [0.]\n",
            " [0.]\n",
            " [0.]\n",
            " [0.]]\n",
            "Solving for V in AV=W, V=\n",
            " [[3.7254902 ]\n",
            " [3.43137255]\n",
            " [2.74509804]\n",
            " [2.25490196]\n",
            " [1.56862745]\n",
            " [1.2745098 ]]\n"
          ],
          "name": "stdout"
        }
      ]
    },
    {
      "cell_type": "markdown",
      "metadata": {
        "id": "BkF4XLKyGJH2"
      },
      "source": [
        "c) Program to find values of V for N = 10000"
      ]
    },
    {
      "cell_type": "code",
      "metadata": {
        "id": "as0hR5-gGRm8",
        "colab": {
          "base_uri": "https://localhost:8080/"
        },
        "outputId": "f21e1bfe-9631-4924-93d9-6aaff341215a"
      },
      "source": [
        "import numpy as np\r\n",
        "\r\n",
        "# Define Constants\r\n",
        "N = 10000\r\n",
        "Vplus = 5\r\n",
        "\r\n",
        "# Define Arrays\r\n",
        "Aa = np.zeros(N**2)\r\n",
        "Aa = Aa.reshape(N,N)\r\n",
        "Wa = np.zeros(N)\r\n",
        "Wa = Wa.reshape(N,1)\r\n",
        "Wa[0,0] = Vplus\r\n",
        "Wa[1,0] = Vplus\r\n",
        "\r\n",
        "# Function that takes ix and iy, returns the array value for that position\r\n",
        "def getVal(ix,iy):\r\n",
        "  if((ix == 0) and (iy == 0)):\r\n",
        "    return 3\r\n",
        "  elif((ix == N-1) and (iy == N-1)):\r\n",
        "    return 3\r\n",
        "  elif(ix == iy):\r\n",
        "    return 4\r\n",
        "  elif( iy-2 <= ix <= iy+2):\r\n",
        "    return -1\r\n",
        "\r\n",
        "# Fill array A with values, uses less calculations than the code in part b\r\n",
        "for iy in range(N):\r\n",
        "  if((iy > 2) and (iy < N-2)):\r\n",
        "    for ix in range(iy-2,iy+3,1):\r\n",
        "      Aa[ix,iy] = getVal(ix,iy)\r\n",
        "  elif(iy <= 2):\r\n",
        "    for ix in range(0,iy+3,1):\r\n",
        "      Aa[ix,iy] = getVal(ix,iy)\r\n",
        "  else:\r\n",
        "    for ix in range(iy-2,N,1):\r\n",
        "      Aa[ix,iy] = getVal(ix,iy)\r\n",
        "  \r\n",
        "# Gets the x value for the diagonal array, takes ix and iy\r\n",
        "def getX(ix,iy):\r\n",
        "  return (ix - iy) + 2\r\n",
        "\r\n",
        "# Converts a NxN bounded array to a 5XN array of the diagonals\r\n",
        "def DiagonalArray(Aa):\r\n",
        "  Ad = np.zeros(N*5)\r\n",
        "  Ad = Ad.reshape(5,N)\r\n",
        "\r\n",
        "  for iy in range(N):\r\n",
        "    if((iy > 2) and (iy < N-2)):\r\n",
        "      for ix in range(iy-2,iy+3,1):\r\n",
        "        val = getX(ix,iy)\r\n",
        "        Ad[val,iy] = Aa[ix,iy]\r\n",
        "    elif(iy <= 2):\r\n",
        "      for ix in range(0,iy+3,1):\r\n",
        "        val = getX(ix,iy)\r\n",
        "        Ad[val,iy] = Aa[ix,iy]\r\n",
        "    else:\r\n",
        "      for ix in range(iy-2,N,1):\r\n",
        "        val = getX(ix,iy)\r\n",
        "        Ad[val,iy] = Aa[ix,iy]\r\n",
        "\r\n",
        "  return Ad\r\n",
        "\r\n",
        "\r\n",
        "# Function that will get the solution array, from the book\r\n",
        "# Takes the arrays Ad and Wa, in the form AV = W\r\n",
        "# Where Ad is the diagonally stored, bounded NxN array in the form 5xN\r\n",
        "# Takes up and down, referencing the number of values above and below the  diagonal\r\n",
        "def banded(Ad,Wa,up,down):\r\n",
        "\r\n",
        "  A = np.copy(Ad)\r\n",
        "  W = np.copy(Wa)\r\n",
        "  N = len(W)\r\n",
        "\r\n",
        "  # Gaussian elimination\r\n",
        "  for m in range(N):\r\n",
        "\r\n",
        "    # Normalization factor\r\n",
        "    div = A[up,m]\r\n",
        "\r\n",
        "    # Update the vector first\r\n",
        "    W[m] /= div\r\n",
        "    for k in range(1,down+1):\r\n",
        "      if m+k<N:\r\n",
        "        W[m+k] -= A[up+k,m]*W[m]\r\n",
        "\r\n",
        "    # Now normalize and subtract the pivot row\r\n",
        "    for i in range(up):\r\n",
        "      j = m + up - i\r\n",
        "      if j<N:\r\n",
        "        A[i,j] /= div\r\n",
        "        for k in range(1,down+1):\r\n",
        "          A[i+k,j] -= A[up+k,m]*A[i,j]\r\n",
        "\r\n",
        "  # Backsubstitution\r\n",
        "  for m in range(N-2,-1,-1):\r\n",
        "    for i in range(up):\r\n",
        "      j = m + up - 1\r\n",
        "      if j<N:\r\n",
        "        W[m] -= A[i,j]*W[j]\r\n",
        "\r\n",
        "  return W\r\n",
        "\r\n",
        "# Print Arrays A and W\r\n",
        "print(\"A=\\n\",Aa)\r\n",
        "print(\"W=\\n\",Wa)\r\n",
        "\r\n",
        "# Convert A to be diagonally stored\r\n",
        "Ad = DiagonalArray(Aa)\r\n",
        "#print(\"Diagonal A=\\n\",Ad)\r\n",
        "\r\n",
        "# Get the solution using the banded equation\r\n",
        "V=banded(Ad,Wa,2,2)\r\n",
        "print(\"Solving for V in AV=W, V=\\n\",V)"
      ],
      "execution_count": 45,
      "outputs": [
        {
          "output_type": "stream",
          "text": [
            "A=\n",
            " [[ 3. -1. -1. ...  0.  0.  0.]\n",
            " [-1.  4. -1. ...  0.  0.  0.]\n",
            " [-1. -1.  4. ...  0.  0.  0.]\n",
            " ...\n",
            " [ 0.  0.  0. ...  4. -1. -1.]\n",
            " [ 0.  0.  0. ... -1.  4. -1.]\n",
            " [ 0.  0.  0. ... -1. -1.  3.]]\n",
            "W=\n",
            " [[5.]\n",
            " [5.]\n",
            " [0.]\n",
            " ...\n",
            " [0.]\n",
            " [0.]\n",
            " [0.]]\n",
            "Solving for V in AV=W, V=\n",
            " [[3.36459147e+00]\n",
            " [5.09377441e+00]\n",
            " [4.69976328e+00]\n",
            " ...\n",
            " [2.49919121e-03]\n",
            " [1.80846993e-03]\n",
            " [1.11772227e-03]]\n"
          ],
          "name": "stdout"
        }
      ]
    },
    {
      "cell_type": "markdown",
      "metadata": {
        "id": "hkQxQwMTFBNB"
      },
      "source": [
        "2) Excercise 6.13: Page 267"
      ]
    },
    {
      "cell_type": "markdown",
      "metadata": {
        "id": "GvYT8XkUGggG"
      },
      "source": [
        "a) Go through equations:\r\n",
        "\r\n",
        "![picture](https://drive.google.com/uc?export=view&id=1TCvWOoalilRSF-W_pEhguWE7WU_CN2AX)\r\n",
        "\r\n"
      ]
    },
    {
      "cell_type": "markdown",
      "metadata": {
        "id": "nG-hUTcRGqAY"
      },
      "source": [
        "b) Program using the binary search method to solve the equation:"
      ]
    },
    {
      "cell_type": "code",
      "metadata": {
        "id": "R4EEQSj5FK-L",
        "colab": {
          "base_uri": "https://localhost:8080/"
        },
        "outputId": "86201869-9021-4aea-af08-db9d58387255"
      },
      "source": [
        "from math import exp\r\n",
        "import numpy as np\r\n",
        "\r\n",
        "Accuracy = 1e-6\r\n",
        "h = 6.626e-34\r\n",
        "c = 2.998e8\r\n",
        "Kb = 1.381e-23\r\n",
        "\r\n",
        "def f(x):\r\n",
        "  return (5*exp(-x)) + x - 5\r\n",
        "\r\n",
        "accuracy = 1e-6\r\n",
        "delta = 1.0\r\n",
        "x = 1e10\r\n",
        "N=0\r\n",
        "while abs(delta) > accuracy:\r\n",
        "  delta = f(x)\r\n",
        "  x -= delta\r\n",
        "  N=N+1\r\n",
        "print(\"Solution for X using binary search:\", x)\r\n",
        "\r\n",
        "b = ((h*c)/(Kb*x))\r\n",
        "\r\n",
        "print(\"Wein Displacement Constant:\", b)"
      ],
      "execution_count": 55,
      "outputs": [
        {
          "output_type": "stream",
          "text": [
            "Solution for X using binary search: 4.96511423351466\n",
            "Wein Displacement Constant: 0.0028970776561514713\n"
          ],
          "name": "stdout"
        }
      ]
    },
    {
      "cell_type": "markdown",
      "metadata": {
        "id": "F0olaGM2G1Bk"
      },
      "source": [
        "c) Estimation using previous solution for the sun surface temperature:\r\n",
        "\r\n",
        "Surface Temperature = b/Wavelength = (.002897)/(502e-9) = 5771 K\r\n",
        "\r\n",
        "\r\n"
      ]
    },
    {
      "cell_type": "markdown",
      "metadata": {
        "id": "OXCCqUGqFWQA"
      },
      "source": [
        "3) Excercise 6.18: Page 285"
      ]
    },
    {
      "cell_type": "markdown",
      "metadata": {
        "id": "AcZ3Qrx1HHC0"
      },
      "source": [
        "a) Program to find efficiency given temperature:"
      ]
    },
    {
      "cell_type": "code",
      "metadata": {
        "id": "3lPDzgGwFinG",
        "colab": {
          "base_uri": "https://localhost:8080/",
          "height": 294
        },
        "outputId": "1bcb159c-6ba0-41ba-9bba-000f08282345"
      },
      "source": [
        "import numpy as np\r\n",
        "import math as ma\r\n",
        "from matplotlib import pyplot as plt\r\n",
        "\r\n",
        "# Function that gets the integration points and weights\r\n",
        "# Takes N as a variable\r\n",
        "# Returns x and w as numerical values\r\n",
        "# From the textbook online resource\r\n",
        "def gaussxw(N):\r\n",
        "\r\n",
        "    # Initial approximation to roots of the Legendre polynomial\r\n",
        "    a = np.linspace(3,4*N-1,N)/(4*N+2)\r\n",
        "    x = np.cos(np.pi*a+1/(8*N*N*np.tan(a)))\r\n",
        "\r\n",
        "    # Find roots using Newton's method\r\n",
        "    epsilon = 1e-15\r\n",
        "    delta = 1.0\r\n",
        "    while delta>epsilon:\r\n",
        "        p0 = np.ones(N,float)\r\n",
        "        p1 = np.copy(x)\r\n",
        "        for k in range(1,N):\r\n",
        "            p0,p1 = p1,((2*k+1)*x*p1-k*p0)/(k+1)\r\n",
        "        dp = (N+1)*(p0-x*p1)/(1-x*x)\r\n",
        "        dx = p1/dp\r\n",
        "        x -= dx\r\n",
        "        delta = max(abs(dx))\r\n",
        "\r\n",
        "    # Calculate the weights\r\n",
        "    w = 2*(N+1)*(N+1)/(N*N*(1-x*x)*dp*dp)\r\n",
        "\r\n",
        "    return x,w\r\n",
        "\r\n",
        "# Function that gets the integration points and weights for the integral from a to b\r\n",
        "# Takes N, a, and b as variables\r\n",
        "# Returns x and w as numerical values\r\n",
        "# From the textbook online resource\r\n",
        "def gaussxwab(N,a,b):\r\n",
        "    x,w = gaussxw(N)\r\n",
        "    return 0.5*(b-a)*x+0.5*(b+a),0.5*(b-a)*w\r\n",
        "\r\n",
        "# Function that gets the integral approximation of a function\r\n",
        "# Takes N, a, b, and f as variables\r\n",
        "# Returns a numerical value\r\n",
        "# Code by Mark Newman\r\n",
        "def integrateGauss(N,a,b,f):\r\n",
        "    integral = 0.0\r\n",
        "    ## get the sample points and optimal weights\r\n",
        "    x,w = gaussxwab(N,a,b)\r\n",
        "\r\n",
        "    # Now we use these in the integration\r\n",
        "    for k in range(N):\r\n",
        "      integral = integral+w[k]*f(x[k])\r\n",
        "    return integral\r\n",
        "\r\n",
        "# Function that needs to be integrated to get the efficiency n\r\n",
        "# Takes x as a variable\r\n",
        "# Returns a numerical value\r\n",
        "def f(x):\r\n",
        "  return (x**3)/(ma.exp(x)-1)\r\n",
        "\r\n",
        "# Function that gets the efficiency n\r\n",
        "# Takes N, a, and b as variables\r\n",
        "# Returns a numerical value\r\n",
        "def getn(N, a, b):\r\n",
        "  return (15/(np.pi**4))*integrateGauss(N,a,b,f)\r\n",
        "\r\n",
        "# Function that takes an empty array nArr, and fills it with its values\r\n",
        "# Takes nArr, TArr, and N as variables\r\n",
        "# Returns a filled array\r\n",
        "def fillnArr(nArr, TArr, N):\r\n",
        "  # Constants for a and b\r\n",
        "  L1 = 390e-9\r\n",
        "  L2 = 750e-9\r\n",
        "  h = 6.62607004e-34\r\n",
        "  c = 2.99792458e8\r\n",
        "  Kb = 1.38064852e-23\r\n",
        "\r\n",
        "  count = 0\r\n",
        "  for T in TArr:\r\n",
        "    a = (h*c)/(L2*Kb*T)\r\n",
        "    b = (h*c)/(L1*Kb*T)\r\n",
        "    nArr[count] = getn(N,a,b)\r\n",
        "    count +=1\r\n",
        "  return nArr\r\n",
        "\r\n",
        "# Starting constants and arrays for plotting data\r\n",
        "N = 100\r\n",
        "TArr = np.linspace(300,10000, 500)\r\n",
        "nArr = np.zeros(len(TArr))\r\n",
        "\r\n",
        "# Fill the nArray\r\n",
        "nArr = fillnArr(nArr, TArr, N)\r\n",
        "\r\n",
        "# Plot the result\r\n",
        "plt.plot(TArr,nArr)\r\n",
        "plt.xlabel(\"Temperature (K)\")\r\n",
        "plt.ylabel(\"Efficiency\")\r\n",
        "plt.title(\"Energy to Light Efficiency at Different Temperatures\")\r\n",
        "plt.show()"
      ],
      "execution_count": 61,
      "outputs": [
        {
          "output_type": "display_data",
          "data": {
            "image/png": "[encoded data removed]",
            "text/plain": [
              "<Figure size 432x288 with 1 Axes>"
            ]
          },
          "metadata": {
            "tags": [],
            "needs_background": "light"
          }
        }
      ]
    },
    {
      "cell_type": "markdown",
      "metadata": {
        "id": "CnbLcII1Hdef"
      },
      "source": [
        "b) Program to calculate temperature of maximum efficiency:"
      ]
    },
    {
      "cell_type": "code",
      "metadata": {
        "id": "ILwokOtjHkw7",
        "colab": {
          "base_uri": "https://localhost:8080/"
        },
        "outputId": "e38a5709-5f47-4872-cda3-5ae5ccdf51b4"
      },
      "source": [
        "import numpy as np\r\n",
        "import math as ma\r\n",
        "\r\n",
        "# Function that gets the integration points and weights\r\n",
        "# Takes N as a variable\r\n",
        "# Returns x and w as numerical values\r\n",
        "# From the textbook online resource\r\n",
        "def gaussxw(N):\r\n",
        "\r\n",
        "    # Initial approximation to roots of the Legendre polynomial\r\n",
        "    a = np.linspace(3,4*N-1,N)/(4*N+2)\r\n",
        "    x = np.cos(np.pi*a+1/(8*N*N*np.tan(a)))\r\n",
        "\r\n",
        "    # Find roots using Newton's method\r\n",
        "    epsilon = 1e-15\r\n",
        "    delta = 1.0\r\n",
        "    while delta>epsilon:\r\n",
        "        p0 = np.ones(N,float)\r\n",
        "        p1 = np.copy(x)\r\n",
        "        for k in range(1,N):\r\n",
        "            p0,p1 = p1,((2*k+1)*x*p1-k*p0)/(k+1)\r\n",
        "        dp = (N+1)*(p0-x*p1)/(1-x*x)\r\n",
        "        dx = p1/dp\r\n",
        "        x -= dx\r\n",
        "        delta = max(abs(dx))\r\n",
        "\r\n",
        "    # Calculate the weights\r\n",
        "    w = 2*(N+1)*(N+1)/(N*N*(1-x*x)*dp*dp)\r\n",
        "\r\n",
        "    return x,w\r\n",
        "\r\n",
        "# Function that gets the integration points and weights for the integral from a to b\r\n",
        "# Takes N, a, and b as variables\r\n",
        "# Returns x and w as numerical values\r\n",
        "# From the textbook online resource\r\n",
        "def gaussxwab(N,a,b):\r\n",
        "    x,w = gaussxw(N)\r\n",
        "    return 0.5*(b-a)*x+0.5*(b+a),0.5*(b-a)*w\r\n",
        "\r\n",
        "# Function that gets the integral approximation of a function\r\n",
        "# Takes N, a, b, and f as variables\r\n",
        "# Returns a numerical value\r\n",
        "# Code by Mark Newman\r\n",
        "def integrateGauss(N,a,b,f):\r\n",
        "    integral = 0.0\r\n",
        "    ## get the sample points and optimal weights\r\n",
        "    x,w = gaussxwab(N,a,b)\r\n",
        "\r\n",
        "    # Now we use these in the integration\r\n",
        "    for k in range(N):\r\n",
        "      integral = integral+w[k]*f(x[k])\r\n",
        "    return integral\r\n",
        "\r\n",
        "# Function that needs to be integrated to get the efficiency n\r\n",
        "# Takes x as a variable\r\n",
        "# Returns a numerical value\r\n",
        "def f(x):\r\n",
        "  return (x**3)/(ma.exp(x)-1)\r\n",
        "\r\n",
        "# Function that gets the inverted efficiency n\r\n",
        "# Takes T as a variable\r\n",
        "# Returns a numerical value\r\n",
        "def getn(T):\r\n",
        "  # Constants\r\n",
        "  L1 = 390e-9\r\n",
        "  L2 = 750e-9\r\n",
        "  h = 6.62607004e-34\r\n",
        "  c = 2.99792458e8\r\n",
        "  Kb = 1.38064852e-23\r\n",
        "  N = 100\r\n",
        "\r\n",
        "  a = (h*c)/(L2*Kb*T)\r\n",
        "  b = (h*c)/(L1*Kb*T)\r\n",
        "  return -(15/(np.pi**4))*integrateGauss(N,a,b,f)\r\n",
        "\r\n",
        "# This is the Golden Ratio\r\n",
        "gr = (np.sqrt(5) + 1) / 2\r\n",
        "\r\n",
        "# Golden Ratio Search Function for the efficiency n\r\n",
        "# Finds the minimum value for f between [x1,x4]\r\n",
        "# Returns the predicted minimum value\r\n",
        "def GRS(f, x1, x4, Accuracy):\r\n",
        "    x2 = x4-(x4 - x1)/gr\r\n",
        "    x3 = x1+(x4 - x1)/gr\r\n",
        "    while abs(x4 - x1) > Accuracy:\r\n",
        "        if f(x2) < f(x3):\r\n",
        "            x4 = x3\r\n",
        "        else:\r\n",
        "            x1 = x2\r\n",
        "\r\n",
        "        x2 = x4-(x4 - x1)/gr\r\n",
        "        x3 = x1+(x4 - x1)/gr\r\n",
        "\r\n",
        "    return (x4 + x1)/2\r\n",
        "\r\n",
        "# Starting constants\r\n",
        "\r\n",
        "x1 = 4000\r\n",
        "x4 = 8000\r\n",
        "Accuracy = 1\r\n",
        "\r\n",
        "Tmax = GRS(getn,x1,x4,Accuracy)\r\n",
        "\r\n",
        "print(\"Predicted Maximum Temperature:\", round(Tmax), \"K\")"
      ],
      "execution_count": 66,
      "outputs": [
        {
          "output_type": "stream",
          "text": [
            "Predicted Maximum Temperature: 6928 K\n"
          ],
          "name": "stdout"
        }
      ]
    },
    {
      "cell_type": "markdown",
      "metadata": {
        "id": "20vM-h96Hk57"
      },
      "source": [
        "c) Reasonable temperature?\r\n",
        "\r\n",
        "No, the maximum temperature for the tungsten filament in a light bulb is ~2800 K, so 6928 K is far past the point where the filament will melt and cease to function.\r\n",
        "\r\n",
        "\r\n",
        "\r\n",
        "\r\n",
        "\r\n"
      ]
    }
  ]
}