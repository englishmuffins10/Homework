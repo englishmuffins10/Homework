{
  "nbformat": 4,
  "nbformat_minor": 0,
  "metadata": {
    "colab": {
      "name": "HW7",
      "provenance": [],
      "authorship_tag": "ABX9TyNJK6FM6SANX3dXiDTnYjvP",
      "include_colab_link": true
    },
    "kernelspec": {
      "name": "python3",
      "display_name": "Python 3"
    },
    "language_info": {
      "name": "python"
    }
  },
  "cells": [
    {
      "cell_type": "markdown",
      "metadata": {
        "id": "view-in-github",
        "colab_type": "text"
      },
      "source": [
        "<a href=\"https://colab.research.google.com/github/englishmuffins10/Homework/blob/main/HW7.ipynb\" target=\"_parent\"><img src=\"https://colab.research.google.com/assets/colab-badge.svg\" alt=\"Open In Colab\"/></a>"
      ]
    },
    {
      "cell_type": "markdown",
      "metadata": {
        "id": "1YCbFAEqam-t"
      },
      "source": [
        "1) Problem 9.4 Page 424"
      ]
    },
    {
      "cell_type": "code",
      "metadata": {
        "colab": {
          "base_uri": "https://localhost:8080/",
          "height": 294
        },
        "id": "anypdLYXae_S",
        "outputId": "ebbffe3d-d3b1-4f10-ba46-a98165cf3d1f"
      },
      "source": [
        "import numpy as np\n",
        "from matplotlib import pyplot as plt\n",
        "\n",
        "# Function that takes t (days) and returns the value for the surface temperature\n",
        "def getTSurface(t):\n",
        "  A = 10\n",
        "  B = 12\n",
        "  Tao = 365\n",
        "  val = (2*np.pi*t)/Tao\n",
        "  return A + (B*np.sin(val))\n",
        "\n",
        "# Function that goes through a set period of time, simulating changing temps\n",
        "# Takes T(Starting Temps), Tp(Temp after h), TBottom(Temp at N=L), \n",
        "#   f(funcion that returns surface temp), t(time increment, days), \n",
        "#   tend(final day), c, h, and N\n",
        "# Returns the final Temperature Array and the final day\n",
        "def Simulate(T, Tp, TBottom, f, t, tend, c, h, N):\n",
        "  while t < tend:\n",
        "    Tp[0] = f(t+h)\n",
        "\n",
        "    Tp[1:N] = T[1:N] + c*(T[2:N+1]+T[0:N-1]-2*T[1:N])\n",
        "\n",
        "    T,Tp = Tp,T\n",
        "    t += h\n",
        "\n",
        "  return T,t\n",
        "\n",
        "# Constants\n",
        "L = 20                # Depth\n",
        "D = .1                # Thermal diffusivity\n",
        "N = 40                # Number of divisions in grid\n",
        "a = L/N               # Grid spacing\n",
        "h = 1                 # Time-step (days)\n",
        "c = h*D/(a*a)\n",
        "\n",
        "TBottom = 11          # Temperaure at lowest depth\n",
        "TStart = 10           # Starting temperatures\n",
        "\n",
        "# Create arrays\n",
        "T = np.empty(N+1,float)\n",
        "T[0] = getTSurface(1)\n",
        "T[N] = TBottom\n",
        "T[1:N] = TStart\n",
        "Tp = np.empty(N+1,float)\n",
        "Tp[N] = TBottom\n",
        "xArr = np.linspace(0,L,N+1)\n",
        "\n",
        "\n",
        "# Simulate first 9 years\n",
        "t = 1\n",
        "tend = 365*9\n",
        "T,t = Simulate(T, Tp, TBottom, getTSurface, t, tend, c, h, N)\n",
        "\n",
        "\n",
        "# First day, T1\n",
        "tend = tend+1\n",
        "T,t = Simulate(T, Tp, TBottom, getTSurface, t, tend, c, h, N)\n",
        "plt.plot(xArr,T, Label = \"T1\")\n",
        "\n",
        "# 3 months later, T2\n",
        "tend = tend+(30*3)\n",
        "T,t = Simulate(T, Tp, TBottom, getTSurface, t, tend, c, h, N)\n",
        "plt.plot(xArr,T, Label = \"T2\")\n",
        "\n",
        "# 3 months later, T3\n",
        "tend = tend+(30*3)\n",
        "T,t = Simulate(T, Tp, TBottom, getTSurface, t, tend, c, h, N)\n",
        "plt.plot(xArr,T, Label = \"T3\")\n",
        "\n",
        "# 3 months later, T4\n",
        "tend = tend+(30*3)\n",
        "T,t = Simulate(T, Tp, TBottom, getTSurface, t, tend, c, h, N)\n",
        "plt.plot(xArr,T, Label = \"T4\")\n",
        "\n",
        "# Graph Results:\n",
        "plt.legend()\n",
        "plt.title(\"Earth temperature, year 10, depth < 20m\")\n",
        "plt.xlabel(\"x (Meters)\")\n",
        "plt.ylabel(\"Temperature (C)\")\n",
        "plt.show()"
      ],
      "execution_count": 37,
      "outputs": [
        {
          "output_type": "display_data",
          "data": {
            "image/png": "[encoded data removed]",
            "text/plain": [
              "<Figure size 432x288 with 1 Axes>"
            ]
          },
          "metadata": {
            "tags": [],
            "needs_background": "light"
          }
        }
      ]
    },
    {
      "cell_type": "markdown",
      "metadata": {
        "id": "xslAuRNjam4H"
      },
      "source": [
        "2) Problem 9.5 Page 431"
      ]
    }
  ]
}