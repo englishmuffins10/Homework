{
  "nbformat": 4,
  "nbformat_minor": 0,
  "metadata": {
    "colab": {
      "name": "HW1.ipynb",
      "provenance": [],
      "collapsed_sections": [],
      "authorship_tag": "ABX9TyMdX2k61G4zhD83KJAk0ck8",
      "include_colab_link": true
    },
    "kernelspec": {
      "name": "python3",
      "display_name": "Python 3"
    }
  },
  "cells": [
    {
      "cell_type": "markdown",
      "metadata": {
        "id": "view-in-github",
        "colab_type": "text"
      },
      "source": [
        "<a href=\"https://colab.research.google.com/github/englishmuffins10/Homework-1/blob/main/HW1.ipynb\" target=\"_parent\"><img src=\"https://colab.research.google.com/assets/colab-badge.svg\" alt=\"Open In Colab\"/></a>"
      ]
    },
    {
      "cell_type": "markdown",
      "metadata": {
        "id": "p3kYJEs6fQuD"
      },
      "source": [
        "1) Exercise 4.4: Calculating Integrals"
      ]
    },
    {
      "cell_type": "code",
      "metadata": {
        "colab": {
          "base_uri": "https://localhost:8080/"
        },
        "id": "AYDmeqtHdFm0",
        "outputId": "f112212b-711d-4c5f-f23c-a7dbd383038c"
      },
      "source": [
        "import math\r\n",
        "import time\r\n",
        "\r\n",
        "Actual_Value = math.pi/2\r\n",
        "Calculated_Value = 0\r\n",
        "N = 100\r\n",
        "h = 2/N\r\n",
        "k = 1\r\n",
        "Xk = 0\r\n",
        "Yk = 0\r\n",
        "\r\n",
        "tic = time.perf_counter()\r\n",
        "while k < (N+1):\r\n",
        "  Xk = -1 + (h*k)\r\n",
        "  Yk = math.sqrt(1 - (Xk ** 2))\r\n",
        "  Calculated_Value += h*Yk\r\n",
        "  k +=1\r\n",
        "\r\n",
        "toc = time.perf_counter()\r\n",
        "time_in_seconds = toc - tic\r\n",
        "\r\n",
        "print(\"Part A: N = 100\")\r\n",
        "print(\"Time Taken: \", str(time_in_seconds))\r\n",
        "print(\"Actual Value: \", str(Actual_Value))\r\n",
        "print(\"Calculated Value: \", str(Calculated_Value))\r\n",
        "print(\"Difference: \", str(Actual_Value - Calculated_Value), \"\\n\")\r\n",
        "\r\n",
        "Calculated_Value = 0\r\n",
        "N = 1999999\r\n",
        "h = 2/N\r\n",
        "k = 1\r\n",
        "Xk = 0\r\n",
        "Yk = 0\r\n",
        "\r\n",
        "tic = time.perf_counter()\r\n",
        "while k < (N+1):\r\n",
        "  Xk = -1 + (h*k)\r\n",
        "  Yk = math.sqrt(1 - (Xk ** 2))\r\n",
        "  Calculated_Value += h*Yk\r\n",
        "  k +=1\r\n",
        "\r\n",
        "toc = time.perf_counter()\r\n",
        "time_in_seconds = toc - tic\r\n",
        "\r\n",
        "print(\"Part B: N = 1999999\")\r\n",
        "print(\"Time Taken: \", str(time_in_seconds))\r\n",
        "print(\"Actual Value: \", str(Actual_Value))\r\n",
        "print(\"Calculated Value: \", str(Calculated_Value))\r\n",
        "print(\"Difference: \", str(Actual_Value - Calculated_Value))"
      ],
      "execution_count": 48,
      "outputs": [
        {
          "output_type": "stream",
          "text": [
            "Part A: N = 100\n",
            "Time Taken:  0.00012471000013647426\n",
            "Actual Value:  1.5707963267948966\n",
            "Calculated Value:  1.5691342555492505\n",
            "Difference:  0.0016620712456461018 \n",
            "\n",
            "Part B: N = 1999999\n",
            "Time Taken:  0.9907243690001906\n",
            "Actual Value:  1.5707963267948966\n",
            "Calculated Value:  1.5707963262068492\n",
            "Difference:  5.880473885611082e-10\n"
          ],
          "name": "stdout"
        }
      ]
    },
    {
      "cell_type": "markdown",
      "metadata": {
        "id": "FN6YfPO7nDnK"
      },
      "source": [
        "2) Single precision binary representation of -1/3\r\n",
        "\r\n",
        " * Sign: 0 Exponent: 00000000 Fraction: 00000000000000000000000\r\n",
        "  * Sign will be 1 representing negative\r\n",
        "  * Exponent will be 01111101 representing 2^-2 (2^ 125-127), or 1/4\r\n",
        "  * Fraction will be 01010101010101010101011 representing 1.3333334\r\n",
        "  * (-1)^1 * 2^-2 * 1.3333334 = **-0.33333335**\r\n",
        "\r\n",
        "\r\n"
      ]
    },
    {
      "cell_type": "markdown",
      "metadata": {
        "id": "8mcYvX5VDqp8"
      },
      "source": [
        "3) Smallest positive integer that is not exact in single precision:\r\n",
        " * The largest consecutive exact integer that can be defined by single precision is **16777216**\r\n",
        " * This is shown by: 0 10010111 00000000000000000000000\r\n",
        " * This is also 2^24\r\n",
        " * Therefore, the smallest positive integer that is not exact is **16777217**\r\n",
        "  * All integers after 2^24 are rounded to the nearest even value until 2^25\r\n",
        "  * The value 0 10010111 00000000000000000000001 represents **16777218**\r\n",
        "   * Since at this point mutliplying by the smallest amount in the Mantissa increments by 2\r\n",
        "\r\n",
        "\r\n",
        "\r\n"
      ]
    },
    {
      "cell_type": "markdown",
      "metadata": {
        "id": "93KZvkhwD1o9"
      },
      "source": [
        "4) two's complement for: 9, 455, 1021, -12, -1022, -1023\r\n",
        "Using 12 digits:\r\n",
        "Positive numbers appear normal while negative numbers are different\r\n",
        "\r\n",
        "*   9    : ->                     **0b000000001001**\r\n",
        "*   455  : ->                     **0b000111000111**\r\n",
        "*   1021 : ->                     **0b001111111101**\r\n",
        "*   -12  : -> 2^12 - 12   = 4084: **0b111111110100**\r\n",
        "*   -1022: -> 2^12 - 1022 = 3074: **0b110000000010**\r\n",
        "*   -1023: -> 2^12 - 1023 = 3073: **0b110000000001**"
      ]
    },
    {
      "cell_type": "markdown",
      "metadata": {
        "id": "VgxvvqmWEG74"
      },
      "source": [
        "5) Octal, binary and hex representations of:\r\n",
        "\r\n",
        "*   13   : \r\n",
        " * Binary: 13/2 = 6R**1**, 6/2 = 3R**0**, 3/2=1R**1**, **1** Left over: **0b1101**\r\n",
        " * Octal: split into 3 bit segments: **001**/**101** -> **015**\r\n",
        " * Hex: split into 4 bit segments: **1101** -> **0xd**\r\n",
        "*   133  : \r\n",
        " * Binary: 133/2 = 66R**1**, 66/2 = 33R**0**, 33/2 = 16**1**, 16/2 = 8R**0**, 8/2 = 4R**0**, 4/2 = 2R**0**, 2/2 = 1R**0**, **1** Left over: **0b10000101**\r\n",
        " * Octal: split into 3 bit segments: **010**/**000**/**101** -> **0205**\r\n",
        " * Hex: split into 4 bit segments: **1000**/**0101** -> **0x85**\r\n",
        "*   1333 : \r\n",
        " * Binary: 1333/2 = 666R**1**, 666/2 = 333R**0**, 333/2 = 166R**1**, 166/2 = 83R**0**, 83/2 = 41R**1**, 41/2 = 20R**1**, 20/2 = 10R**0**, 10/2 = 5R**0**, 5/2 = 2R**1**, 2/2 = 1R**0**, **1** Left over: **0b10100110101**\r\n",
        " * Octal: split into 3 bit segments: **010**/**100**/**110**/**101** -> **02465**\r\n",
        " * Hex: split into 4 bit segments: **0101**/**0011**/**0101** -> **0x535**\r\n",
        "*   13333: \r\n",
        " * Binary: 13333/2 = 6666R**1**, 6666/2 = 3333R**0**, 3333/2 = 1666R**1**, 1666/2 = 833R**0**, 833/2 = 416R**1**, 416/2 = 208R**0**, 208/2 = 104R**0**, 104/2 = 52R**0**, 52/2 = 26R**0**, 26/2 = 13R**0**, 13/2 = 6R**1**, 6/2 = 3R**0**, 3/2 = 1R**1**, **1** Left over: **0b11010000010101**\r\n",
        " * Octal: split into 3 bit segments: **011**/**010**/**000**/**010**/**101**  -> **032025**\r\n",
        " * Hex: split into 4 bit segments: **0011**/**0100**/**0001**/**0101**  -> **0x3415**\r\n",
        "\r\n",
        "\r\n"
      ]
    }
  ]
}