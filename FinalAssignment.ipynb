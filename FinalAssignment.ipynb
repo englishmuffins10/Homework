{
  "nbformat": 4,
  "nbformat_minor": 0,
  "metadata": {
    "colab": {
      "name": "FinalAssignment",
      "provenance": [],
      "authorship_tag": "ABX9TyP7gpdDpUY2aiPBuxxvEH0O",
      "include_colab_link": true
    },
    "kernelspec": {
      "name": "python3",
      "display_name": "Python 3"
    },
    "language_info": {
      "name": "python"
    }
  },
  "cells": [
    {
      "cell_type": "markdown",
      "metadata": {
        "id": "view-in-github",
        "colab_type": "text"
      },
      "source": [
        "<a href=\"https://colab.research.google.com/github/englishmuffins10/Homework/blob/main/FinalAssignment.ipynb\" target=\"_parent\"><img src=\"https://colab.research.google.com/assets/colab-badge.svg\" alt=\"Open In Colab\"/></a>"
      ]
    },
    {
      "cell_type": "markdown",
      "metadata": {
        "id": "XlJ33nzTeDGF"
      },
      "source": [
        "1) 5.20: Page 207"
      ]
    },
    {
      "cell_type": "markdown",
      "metadata": {
        "id": "OKwFmZImbPAq"
      },
      "source": [
        "a) Program getting the integral from a to b for a function using recursive trapezoid approximation"
      ]
    },
    {
      "cell_type": "code",
      "metadata": {
        "id": "jtw0RLDJeAwy",
        "colab": {
          "base_uri": "https://localhost:8080/"
        },
        "outputId": "b8d8293f-b245-4a90-88c2-be30750aab93"
      },
      "source": [
        "import numpy as np\n",
        "\n",
        "def f(x):\n",
        "  if(x == 0):\n",
        "    return 1\n",
        "  else:\n",
        "    return (np.sin(x)**2)/(x**2)\n",
        "\n",
        "def Recursive_Trapezoid(x1,x2,fx1,fx2,f,delta):\n",
        "  dx = x2-x1\n",
        "  xm = (x1+x2)/2\n",
        "  fxm = f(xm)\n",
        "  dx1 = xm-x1\n",
        "  dx2 = x2-xm\n",
        "  ErrorNeeded = dx*delta\n",
        "  \n",
        "  I1 = dx*(fx1 + fx2)/2\n",
        "  I2 = (dx1*(fx1+fxm)/2)+(dx2*(fxm+fx2)/2)\n",
        "\n",
        "  Error = (1/3)*(I2-I1)\n",
        "  #print(x1,x2,xm,dx,dx1,dx2,fx1,fx2,fxm,ErrorNeeded,Error)\n",
        "  if(abs(Error) < ErrorNeeded):\n",
        "    return I2\n",
        "  else:\n",
        "    Estimate = Recursive_Trapezoid(x1,xm,fx1,fxm,f,delta) + Recursive_Trapezoid(xm,x2,fxm,fx2,f,delta)\n",
        "    return Estimate\n",
        "\n",
        "epsilon = 10E-4\n",
        "a = 0\n",
        "b = 10\n",
        "delta = epsilon/(b-a)\n",
        "Estimate = Recursive_Trapezoid(a,b,f(a),f(b),f,delta)\n",
        "\n",
        "print(\"Integral Estimate:\",Estimate)"
      ],
      "execution_count": 12,
      "outputs": [
        {
          "output_type": "stream",
          "text": [
            "Integral Estimate: 1.5186616959474484\n"
          ],
          "name": "stdout"
        }
      ]
    },
    {
      "cell_type": "markdown",
      "metadata": {
        "id": "Tak0XMVKb16c"
      },
      "source": [
        "b) It is a good idea to pass fx1 and fx2 because these values need to be calculated in the previous function anyway, and this will decrease the amount of calls to the function by a large margin"
      ]
    },
    {
      "cell_type": "markdown",
      "metadata": {
        "id": "dd_3Uen3cFZB"
      },
      "source": [
        "c) Modified program to show where the integrands are"
      ]
    },
    {
      "cell_type": "code",
      "metadata": {
        "colab": {
          "base_uri": "https://localhost:8080/",
          "height": 531
        },
        "id": "K_Gbv_aKcQ_k",
        "outputId": "6d6fc0fb-2cd6-4d07-aed0-308e38833b14"
      },
      "source": [
        "import numpy as np\n",
        "import matplotlib.pyplot as plt\n",
        "\n",
        "def f(x):\n",
        "  if(x == 0):\n",
        "    return 1\n",
        "  else:\n",
        "    return (np.sin(x)**2)/(x**2)\n",
        "\n",
        "def Recursive_Trapezoid(x1,x2,fx1,fx2,f,delta):\n",
        "  dx = x2-x1\n",
        "  xm = (x1+x2)/2\n",
        "  fxm = f(xm)\n",
        "  dx1 = xm-x1\n",
        "  dx2 = x2-xm\n",
        "  ErrorNeeded = dx*delta\n",
        "  \n",
        "  I1 = dx*(fx1 + fx2)/2\n",
        "  I2 = (dx1*(fx1+fxm)/2)+(dx2*(fxm+fx2)/2)\n",
        "\n",
        "  Error = (1/3)*(I2-I1)\n",
        "  #print(x1,x2,xm,dx,dx1,dx2,fx1,fx2,fxm,ErrorNeeded,Error)\n",
        "  if(abs(Error) < ErrorNeeded):\n",
        "    points = np.array([x1,xm,x2])\n",
        "    return I2,points\n",
        "  else:\n",
        "    v1,points1 = Recursive_Trapezoid(x1,xm,fx1,fxm,f,delta)\n",
        "    v2,points2 = Recursive_Trapezoid(xm,x2,fxm,fx2,f,delta)\n",
        "    Estimate = v1 + v2\n",
        "    points = np.concatenate((points1,points2))\n",
        "    return Estimate, points\n",
        "\n",
        "epsilon = 10E-4\n",
        "a = 0\n",
        "b = 10\n",
        "delta = epsilon/(b-a)\n",
        "Estimate, Ipoints = Recursive_Trapezoid(a,b,f(a),f(b),f,delta)\n",
        "Ipointsx = np.unique(Ipoints)\n",
        "\n",
        "print(\"Integral Estimate:\",Estimate)\n",
        "\n",
        "x = np.linspace(a,b,100)\n",
        "y = np.empty(len(x))\n",
        "i = 0\n",
        "for val in x:\n",
        "  y[i] = f(val)\n",
        "  i += 1\n",
        "\n",
        "Ipointsy = np.empty(len(Ipointsx))\n",
        "i = 0\n",
        "for val in Ipointsx:\n",
        "  Ipointsy[i] = f(val)\n",
        "  i += 1\n",
        "\n",
        "plt.figure(figsize=(14, 8))\n",
        "plt.plot(x,y,\"--\",label=\"function\")\n",
        "plt.plot(Ipointsx,Ipointsy,\"ko\",label=\"Integration Points\",ms=2)\n",
        "plt.legend()\n",
        "plt.title(\"Function and its trapezoidal integration points\")\n",
        "plt.xlabel(\"x\")\n",
        "plt.ylabel(\"y\")\n",
        "plt.show()"
      ],
      "execution_count": 21,
      "outputs": [
        {
          "output_type": "stream",
          "text": [
            "Integral Estimate: 1.5186616959474484\n"
          ],
          "name": "stdout"
        },
        {
          "output_type": "display_data",
          "data": {
            "image/png": "[encoded data removed]",
            "text/plain": [
              "<Figure size 1008x576 with 1 Axes>"
            ]
          },
          "metadata": {
            "tags": [],
            "needs_background": "light"
          }
        }
      ]
    },
    {
      "cell_type": "markdown",
      "metadata": {
        "id": "SR01rlfJeEjL"
      },
      "source": [
        "2) 6.16: Page 274"
      ]
    },
    {
      "cell_type": "markdown",
      "metadata": {
        "id": "ekusyLjrjvsU"
      },
      "source": [
        "a) Prove the equation:\n",
        "\n",
        "![picture](https://drive.google.com/uc?export=view&id=1DmQDqUX0az7cFVvknO8VmHdNyXhXjnHF)"
      ]
    },
    {
      "cell_type": "markdown",
      "metadata": {
        "id": "i_fa5gS8kcxY"
      },
      "source": [
        "b) Program calculating r"
      ]
    },
    {
      "cell_type": "code",
      "metadata": {
        "id": "It2OV1ZOeDXt",
        "colab": {
          "base_uri": "https://localhost:8080/"
        },
        "outputId": "15337c45-cc5d-428d-ffe9-690ce3d29980"
      },
      "source": [
        "import scipy.optimize as opt\n",
        "\n",
        "# Constants Needed\n",
        "G = 6.674E-11 \n",
        "M = 5.974E24\n",
        "m = 7.348E22\n",
        "R = 3.844E8\n",
        "w = 2.662E-6\n",
        "\n",
        "# Function we are trying to = 0 for the above constants\n",
        "# Takes r, returns f(r)\n",
        "def f(r):\n",
        "  return (G*M/(r**2))-(G*m/((R-r)**2))-((w**2)*r)\n",
        "\n",
        "# Values to test for\n",
        "a = 1E3\n",
        "b = 3.8E8\n",
        "\n",
        "# scipy.optimize.brentq finds the roots of a function (where the function = 0)\n",
        "# for the variable r, using f(r) between a and b find where f(r) = 0\n",
        "# Returns that value\n",
        "# (Tried the secant method but couldn't get it to work in time)\n",
        "r = opt.brentq(lambda r: f(r), a, b)\n",
        "\n",
        "print(\"Value of r=\",\"{:e}\".format(r))"
      ],
      "execution_count": 40,
      "outputs": [
        {
          "output_type": "stream",
          "text": [
            "Value of r= 3.260451e+08\n"
          ],
          "name": "stdout"
        }
      ]
    },
    {
      "cell_type": "markdown",
      "metadata": {
        "id": "s6bghs7WeFBa"
      },
      "source": [
        "3) Double Pendulum:"
      ]
    },
    {
      "cell_type": "code",
      "metadata": {
        "id": "tLNjms7HeFQ3"
      },
      "source": [
        "# Was not quite able to get to this before the deadline"
      ],
      "execution_count": null,
      "outputs": []
    }
  ]
}